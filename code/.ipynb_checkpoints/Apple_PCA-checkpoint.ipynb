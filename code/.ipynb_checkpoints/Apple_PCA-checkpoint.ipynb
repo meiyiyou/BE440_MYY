{
 "cells": [
  {
   "cell_type": "code",
   "execution_count": null,
   "id": "1b09ca6c-4a87-4403-9b97-01a95c96c12e",
   "metadata": {},
   "outputs": [],
   "source": [
    "# Load the standard libraries\n",
    "import numpy as np\n",
    "import pandas as pd\n",
    "import networkx as nx\n",
    "\n",
    "from scipy.stats import pearsonr\n",
    "\n",
    "from pylab import *\n",
    "from matplotlib import pyplot as plt\n",
    "import scipy as sp\n",
    "\n",
    "import bokeh.io\n",
    "import bokeh.plotting\n",
    "\n",
    "import holoviews as hv\n",
    "from holoviews import opts\n",
    "hv.extension('bokeh')\n",
    "\n",
    "import matplotlib\n",
    "\n",
    "bokeh.io.output_notebook()"
   ]
  },
  {
   "cell_type": "code",
   "execution_count": null,
   "id": "cf439b89-3230-4457-b13a-85dfefdd12f3",
   "metadata": {},
   "outputs": [],
   "source": [
    "# read in excel file \n",
    "apple_dfs = pd.read_excel('../data/GSE182822_Matrix_FPKM.xlsx', sheet_name=None)\n",
    "\n",
    "# concatenate all DataFrames into one and add a 'Sheet' column\n",
    "apple_df = pd.concat([df.assign(Apple_Type=sheet) for sheet, df in apple_dfs.items()], ignore_index=True)\n",
    "\n",
    "# Move apple name column to the first position\n",
    "last_col = apple_df.pop('Apple_Type')\n",
    "apple_df.insert(0, 'Apple_Type', last_col)\n"
   ]
  },
  {
   "cell_type": "code",
   "execution_count": null,
   "id": "7be9bb09-43e1-4380-b35a-97038e559417",
   "metadata": {},
   "outputs": [],
   "source": [
    "\n",
    "# Split the values in the gene_id column by the '|' character\n",
    "new_cols = apple_df['GENE_ID'].str.split('|', expand=True)\n",
    "\n",
    "# Assign the new column names to the DataFrame\n",
    "new_cols.columns = ['col1', 'Gene_ID', 'col3', 'Gene_Ref', 'col5']\n",
    "new_cols = new_cols.drop(['col1','col3', 'col5'], axis=1)\n",
    "\n",
    "apple_df = pd.concat([apple_df.iloc[:, :1], new_cols, apple_df.iloc[:, 1:]], axis=1)"
   ]
  },
  {
   "cell_type": "code",
   "execution_count": null,
   "id": "2b755508-cbc4-4978-b814-a1f22df3e0ba",
   "metadata": {},
   "outputs": [],
   "source": [
    "# make new df with only genes shared by all three apple types\n",
    "\n",
    "# Group dataframe by Gene_ID and count the number of unique Apple_Type values for each group\n",
    "counts = apple_df.groupby('Gene_ID')['Apple_Type'].nunique()\n",
    "\n",
    "# Get the Gene_IDs that are present in all three apple types\n",
    "genes_in_all_types = counts[counts == 3].index.tolist()\n",
    "\n",
    "# Filter the original dataframe to keep only the rows corresponding to these genes\n",
    "shared_genes_df = apple_df[apple_df['Gene_ID'].isin(genes_in_all_types)]\n",
    "\n",
    "# Save the DataFrame to a CSV file\n",
    "shared_genes_df.to_csv(r'../data/apple_shared_genes.csv')"
   ]
  }
 ],
 "metadata": {
  "kernelspec": {
   "display_name": "Python 3 (ipykernel)",
   "language": "python",
   "name": "python3"
  },
  "language_info": {
   "codemirror_mode": {
    "name": "ipython",
    "version": 3
   },
   "file_extension": ".py",
   "mimetype": "text/x-python",
   "name": "python",
   "nbconvert_exporter": "python",
   "pygments_lexer": "ipython3",
   "version": "3.9.13"
  }
 },
 "nbformat": 4,
 "nbformat_minor": 5
}
